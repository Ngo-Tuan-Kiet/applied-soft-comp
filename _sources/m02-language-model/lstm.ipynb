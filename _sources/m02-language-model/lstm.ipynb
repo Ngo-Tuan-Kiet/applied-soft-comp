{
 "cells": [
  {
   "cell_type": "markdown",
   "id": "fa89cff5",
   "metadata": {},
   "source": [
    "# Long Short-Term Memory (LSTM)\n",
    "\n",
    "\n",
    "While the RNN model is able to handle the sequence data, it struggles with the long-term dependencies. Long Short-Term Memory (LSTM) model {footcite}`hochreiter1997long` is designed to overcome this limitation by introducing a \"controlled\" memory cell that can maintain information over long periods.\n",
    "\n",
    "## LSTM Architecture\n",
    "\n",
    "```{figure} ../figs/lstm.jpg\n",
    "---\n",
    "name: lstm\n",
    "---\n",
    "\n",
    "LSTM architecture showing the cell state (horizontal line at top) and the three gates: forget gate, input gate, and output gate. The cell state acts as a conveyor belt carrying information forward, while gates control information flow.\n",
    "```\n",
    "\n",
    "The input and output of LSTM is fundamentally the same as the simple RNN we have seen before. The only difference is that LSTM has two kinds of hidden states: the hidden state $h_t$ and the cell state (or memory cell) $c_t$.\n",
    "The hidden state $h_t$ is the output of the LSTM, and it is used to predict the next state. The cell state $c_t$ is the internal state of the LSTM, and it is used to maintain the memory of the LSTM.\n",
    "Think of this cell as a conveyor belt that runs straight through the network, allowing information to flow forward largely unchanged. This cell state forms the backbone of the LSTM's memory system.\n",
    "\n",
    "### Deep Dive into LSTM\n",
    "\n",
    "Internally, LSTM controls the flow of information through the cell state by using three gates: the forget gate, the input gate, and the output gate. Let us break down each gate and see how they work.\n",
    "\n",
    "\n",
    "\n",
    "#### Forget Gate\n",
    "\n",
    "```{figure} ../figs/lstm-forget-gate.jpg\n",
    "---\n",
    "width: 400px\n",
    "name: lstm-01\n",
    "align: center\n",
    "---\n",
    "\n",
    "Forget gate. $\\sigma(x_t, h_t)$ decides how much of the previous cell state $c_{t-1}$ to keep. For example, if $\\sigma(x_t, h_t) = 0$, the forget gate will completely forget the previous cell state. If $\\sigma(x_t, h_t) = 1$, the forget gate will keep the previous cell state. $\\sigma$ is the sigmoid function which is bounded between 0 and 1.\n",
    "```\n",
    "\n",
    "The *forget gate* examines the current input and the previous hidden state to decide what information to remove from the cell state. Like a selective eraser, it outputs values between 0 and 1 for each number in the cell state, where 0 means \"completely forget this\" and 1 means \"keep this entirely.\"\n",
    "\n",
    "\n",
    "#### Input Gate\n",
    "\n",
    "```{figure} ../figs/lstm-input-gate.jpg\n",
    "---\n",
    "width: 400px\n",
    "name: lstm-02\n",
    "align: center\n",
    "---\n",
    "\n",
    "Input gate. $\\sigma(x_t, h_t)$ decides how much of the new information (that passes through the tanh function) to add to the cell state. For example, if $\\sigma(x_t, h_t) = 0$, the input gate will completely ignore the new candidate information. If $\\sigma(x_t, h_t) = 1$, the input gate will add the new candidate information to the cell state.\n",
    "```\n",
    "\n",
    "The input gate works together with a candidate memory generator to decide what new information to store. The input gate determines how much of the new candidate values should be added to the cell state, while the candidate memory proposes new values that could be added. This mechanism allows the network to selectively update its memory with new information.\n",
    "\n",
    "\n",
    "#### Output Gate\n",
    "\n",
    "```{figure} ../figs/lstm-output-gate.jpg\n",
    "---\n",
    "width: 400px\n",
    "name: lstm-03\n",
    "align: center\n",
    "---\n",
    "Output gate. $\\sigma(x_t, h_t)$ decides how much of the cell state to reveal as output. For example, if $\\sigma(x_t, h_t) = 0$, the output gate will completely hide the cell state. If $\\sigma(x_t, h_t) = 1$, the output gate will reveal the cell state.\n",
    "```\n",
    "\n",
    "The output gate controls what parts of the cell state should be revealed as output. It applies a filtered version of the cell state to produce the hidden state, which serves as both the output for the current timestep and part of the input for the next timestep.\n",
    "\n",
    "```{note}\n",
    "The key innovation of LSTMs is not just having memory, but having controlled memory. The network learns what to remember and what to forget, rather than trying to remember everything.\n",
    "```\n",
    "\n",
    "### Mathematical Framework\n",
    "\n",
    "The LSTM's operation can be described through a series of equations that work together to process sequential data. The cell state $C_t$ evolves according to:\n",
    "\n",
    "$$ C_t = f_t \\odot C_{t-1} + i_t \\odot \\tilde{C}_t $$\n",
    "\n",
    "where $f_t$ is the forget gate, $i_t$ is the input gate, and $\\tilde{C}_t$ is the candidate memory. The $\\odot$ symbol represents element-wise multiplication, allowing the gates to control information flow by scaling values between 0 and 1.\n",
    "\n",
    "The gates themselves are neural networks that take the current input $x_t$ and previous hidden state $h_{t-1}$ as inputs:\n",
    "\n",
    "$$ f_t = \\sigma(W_f[h_{t-1}, x_t] + b_f) $$\n",
    "$$ i_t = \\sigma(W_i[h_{t-1}, x_t] + b_i) $$\n",
    "$$ o_t = \\sigma(W_o[h_{t-1}, x_t] + b_o) $$\n",
    "\n",
    "The candidate memory is generated similarly:\n",
    "\n",
    "$$ \\tilde{C}_t = \\tanh(W_c[h_{t-1}, x_t] + b_c) $$\n",
    "\n",
    "Finally, the hidden state is produced by:\n",
    "\n",
    "$$ h_t = o_t \\odot \\tanh(C_t) $$\n",
    "\n",
    "## Hands on\n",
    "\n",
    "We will train an LSTM model to identify a wrapped character in a sequence. The task is to predict which character is enclosed in `<>` tags within a sequence of randomly ordered uppercase letters. For example,\n",
    "\n",
    "- Input: `ABCDEFGHIJKLMNOPQRST<U>VWXYZ`\n",
    "- Output: `U`\n",
    "\n",
    "This requires a selective memory that can remember the wrapped character and forget the rest of the characters, which is exactly what LSTM is designed for.\n",
    "\n",
    "Let us first import the necessary libraries."
   ]
  },
  {
   "cell_type": "code",
   "execution_count": 1,
   "id": "004f42a4",
   "metadata": {},
   "outputs": [],
   "source": [
    "import torch\n",
    "import torch.nn as nn\n",
    "from torch.utils.data import TensorDataset, DataLoader\n",
    "import random\n",
    "import string"
   ]
  },
  {
   "cell_type": "markdown",
   "id": "d6bca751",
   "metadata": {},
   "source": [
    "Then, we define the data generation function."
   ]
  },
  {
   "cell_type": "code",
   "execution_count": 2,
   "id": "7b116ad7",
   "metadata": {
    "tags": [
     "hide-input"
    ]
   },
   "outputs": [
    {
     "name": "stdout",
     "output_type": "stream",
     "text": [
      "Sequence: WKEIMZLSHVTODX<Y>BFGRUNQPACJ, Target: Y\n",
      "Sequence: QZVOKUWGHYDP<L>IXRTSCFMANJEB, Target: L\n",
      "Sequence: KNIQATHREMGJYXBZLOPSV<U>DFCW, Target: U\n"
     ]
    }
   ],
   "source": [
    "def generate_wrapped_char_data(n_samples=1000, seq_length=26):\n",
    "    \"\"\"\n",
    "    Generate training data where one random character in a sequence is wrapped with <>.\n",
    "\n",
    "    Args:\n",
    "        n_samples (int): Number of sequences to generate\n",
    "        seq_length (int): Length of each sequence (default 26 for A-Z)\n",
    "\n",
    "    Returns:\n",
    "        list: List of input sequences\n",
    "        list: List of target characters (the wrapped characters)\n",
    "    \"\"\"\n",
    "    sequences = []\n",
    "    targets = []\n",
    "\n",
    "    for _ in range(n_samples):\n",
    "        # Generate a random permutation of A-Z\n",
    "        chars = list(string.ascii_uppercase)\n",
    "        random.shuffle(chars)\n",
    "\n",
    "        # Choose a random position for the wrapped character\n",
    "        wrap_pos = random.randint(0, seq_length - 1)\n",
    "        target_char = chars[wrap_pos]\n",
    "\n",
    "        # Create the sequence with wrapped character\n",
    "        chars.insert(wrap_pos, \"<\")\n",
    "        chars.insert(wrap_pos + 2, \">\")\n",
    "        sequence = \"\".join(chars)\n",
    "\n",
    "        sequences.append(sequence)\n",
    "        targets.append(target_char)\n",
    "\n",
    "    vocab = list(string.ascii_uppercase) + [\"<\", \">\"]\n",
    "\n",
    "    return sequences, targets, vocab\n",
    "\n",
    "sequences, targets, vocab = generate_wrapped_char_data(n_samples = 3)\n",
    "\n",
    "for seq, target in zip(sequences, targets):\n",
    "    print(f\"Sequence: {seq}, Target: {target}\")"
   ]
  },
  {
   "cell_type": "markdown",
   "id": "cee65d17",
   "metadata": {},
   "source": [
    "This function generates our training data by creating n_samples sequences, where each sequence is a random permutation of A-Z letters. In each sequence, one random character is wrapped with <> tags. The function returns both the generated sequences and their corresponding target characters (the wrapped ones) as separate lists.\n",
    "\n",
    "The next step is to convert the sequences into tokenized representations that can be fed into the LSTM model."
   ]
  },
  {
   "cell_type": "code",
   "execution_count": 3,
   "id": "ad812c42",
   "metadata": {
    "tags": [
     "hide-input"
    ]
   },
   "outputs": [
    {
     "name": "stdout",
     "output_type": "stream",
     "text": [
      "X: tensor([[ 0,  1,  2,  3,  4,  5,  6,  7,  8,  9, 10, 11, 12, 13, 14, 15, 16, 17,\n",
      "         18, 19, 26, 20, 27, 21, 22, 23, 24, 25],\n",
      "        [ 0,  1,  2,  3,  4,  5,  6,  7,  8,  9, 10, 11, 12, 13, 14, 15, 16, 17,\n",
      "         18, 19, 20, 26, 21, 27, 22, 23, 24, 25]])\n",
      "Shape of X: torch.Size([2, 28])\n"
     ]
    }
   ],
   "source": [
    "\n",
    "def tokenize(sequences, vocab):\n",
    "    retval = []\n",
    "    for seq in sequences:\n",
    "        r = []\n",
    "        for char in seq:\n",
    "            r.append(vocab.index(char))\n",
    "        retval.append(r)\n",
    "    return torch.tensor(retval)\n",
    "\n",
    "X = tokenize(['ABCDEFGHIJKLMNOPQRST<U>VWXYZ', 'ABCDEFGHIJKLMNOPQRSTU<V>WXYZ'], vocab)\n",
    "print(\"X:\", X)\n",
    "print(\"Shape of X:\", X.shape)"
   ]
  },
  {
   "cell_type": "markdown",
   "id": "928d99c5",
   "metadata": {},
   "source": [
    "The output tensor `X` is of shape `(2, 28)`, where `2` is the number of samples, and `28` is the sequence length.\n",
    "\n",
    "Now, let's prepare the data and train the LSTM model. As before, we will use PyTorch's `TensorDataset` and `DataLoader` to handle the data."
   ]
  },
  {
   "cell_type": "code",
   "execution_count": 4,
   "id": "edc9edfc",
   "metadata": {},
   "outputs": [],
   "source": [
    "from torch.utils.data import Dataset\n",
    "\n",
    "# Generate data\n",
    "sequences, targets, vocab = generate_wrapped_char_data(n_samples=1000)\n",
    "\n",
    "# Tokenize data\n",
    "sequences = tokenize(sequences, vocab)\n",
    "targets = tokenize(targets, vocab)\n",
    "\n",
    "# Create dataset\n",
    "dataset = TensorDataset(sequences, targets)\n",
    "\n",
    "# Split dataset into train and validation\n",
    "train_frac = 0.8\n",
    "batch_size = 128\n",
    "train_size = int(train_frac * len(dataset))\n",
    "val_size = len(dataset) - train_size\n",
    "train_dataset, val_dataset = torch.utils.data.random_split(\n",
    "    dataset, [train_size, val_size]\n",
    ")\n",
    "\n",
    "# Create dataloaders\n",
    "train_dataloader = DataLoader(\n",
    "    train_dataset,\n",
    "    batch_size=batch_size,\n",
    "    shuffle=True,\n",
    ")\n",
    "val_dataloader = DataLoader(\n",
    "    val_dataset,\n",
    "    batch_size=batch_size,\n",
    "    shuffle=False,\n",
    ")"
   ]
  },
  {
   "cell_type": "markdown",
   "id": "27441e58",
   "metadata": {},
   "source": [
    "This creates an efficient data loading pipeline that combines our features and targets into a unified dataset structure. The data loader then handles batching the data, with a batch size of 128 samples which is a common choice that balances between training speed and memory usage. The loader also shuffles the data between epochs, which helps prevent the model from learning any unintended patterns based on the order of samples and improves generalization.\n",
    "\n",
    "Now, let's define the model parameters and initialize the LSTM and output layer."
   ]
  },
  {
   "cell_type": "code",
   "execution_count": 5,
   "id": "3204c75b",
   "metadata": {
    "tags": [
     "hide-input"
    ]
   },
   "outputs": [],
   "source": [
    "import pytorch_lightning as pyl\n",
    "\n",
    "class CharDecoder(pyl.LightningModule):\n",
    "    def __init__(self, vocab_size, output_size, hidden_size, num_layers):\n",
    "        super().__init__()\n",
    "        self.lstm = nn.LSTM(\n",
    "            input_size=vocab_size,\n",
    "            hidden_size=hidden_size,\n",
    "            num_layers=num_layers,\n",
    "            batch_first=True,\n",
    "        )\n",
    "        self.fc = nn.Linear(hidden_size, output_size)\n",
    "        self.embedding = nn.Embedding(vocab_size, vocab_size)\n",
    "\n",
    "        # One-hot encoding\n",
    "        self.embedding.weight.data = torch.eye(vocab_size)\n",
    "        self.embedding.weight.requires_grad = False\n",
    "\n",
    "        # Validation loss\n",
    "        self.val_losses = []\n",
    "\n",
    "    def forward(self, x):\n",
    "\n",
    "        # x is a tensor of shape (batch_size, seq_len)\n",
    "        batch_size, seq_len = x.shape\n",
    "\n",
    "        # To token index to one-hot encoding\n",
    "        x = self.embedding(x)\n",
    "\n",
    "        # To sentnece to sequence of chars\n",
    "        hidden = self.init_hidden(batch_size)\n",
    "        x, _ = self.lstm(x, hidden)\n",
    "        x = x[:, -1, :]\n",
    "        x = self.fc(x)\n",
    "        return x\n",
    "\n",
    "    def training_step(self, batch, batch_idx):\n",
    "        x, y = batch\n",
    "        y_hat = self(x)\n",
    "        loss = torch.nn.functional.cross_entropy(y_hat, y.reshape(-1))\n",
    "        self.log(\"train_loss\", loss)\n",
    "        return loss\n",
    "\n",
    "    def validation_step(self, batch, batch_idx):\n",
    "        with torch.no_grad():\n",
    "            x, y = batch\n",
    "            y_hat = self(x)\n",
    "            loss = torch.nn.functional.cross_entropy(y_hat, y.reshape(-1))\n",
    "            self.log(\"val_loss\", loss)\n",
    "            self.val_losses.append(loss.cpu().item())\n",
    "        return loss\n",
    "\n",
    "    def configure_optimizers(self):\n",
    "        return torch.optim.Adam(self.parameters(), lr=0.01)\n",
    "\n",
    "    def init_hidden(self, batch_size):\n",
    "        return (\n",
    "            torch.zeros(self.lstm.num_layers, batch_size, self.lstm.hidden_size, device=self.device),\n",
    "            torch.zeros(self.lstm.num_layers, batch_size, self.lstm.hidden_size, device=self.device),\n",
    "        )"
   ]
  },
  {
   "cell_type": "code",
   "execution_count": 6,
   "id": "e7b1f101",
   "metadata": {},
   "outputs": [],
   "source": [
    "model = CharDecoder(\n",
    "    vocab_size=28,\n",
    "    output_size=28,\n",
    "    hidden_size=32,\n",
    "    num_layers=1,\n",
    ")"
   ]
  },
  {
   "cell_type": "markdown",
   "id": "493c7240",
   "metadata": {},
   "source": [
    "- `num_layers=1`: The model uses a single-layer LSTM architecture for sequence processing.\n",
    "- `vocab_size=28`: The input dimension matches the vocabulary size to handle the one-hot encoded characters.\n",
    "- `hidden_size=32`: The LSTM contains 32 hidden units per layer to learn complex sequential patterns in the data.\n",
    "- `output_size=28`: The output from the LSTM feeds into a final linear layer that performs classification over the vocabulary space.\n",
    "\n",
    "\n",
    "```{tip}\n",
    "The LSTM model can be stacked with multiple layers to learn more complex patterns {footcite:p}`irsoy2014opinion`. For example, `num_layers=2` will stack two LSTM layers on top of each other. The first layer will take the input and produce a hidden state, which will be used as the input for the second layer. The second layer will then produce the final hidden state and output. By stacking multiple layers, the model can learn more complex patterns in the data.\n",
    "\n",
    "```{figure} https://i.sstatic.net/QxzoG.png\n",
    "---\n",
    "width: 400px\n",
    "name: lstm-04\n",
    "align: center\n",
    "---\n",
    "\n",
    "LSTM with multiple layers.\n",
    "```\n",
    "\n",
    "```{tip}\n",
    "`torch.nn.Embedding` is a convenient way to convert token indices to vectors. By default, it uses random initialization, but we can use one-hot encoding by setting `self.embedding.weight.data = torch.eye(vocab_size)`, and fix the weights by setting `self.embedding.weight.requires_grad = False`.\n",
    "```\n",
    "\n",
    "```{tip}\n",
    "In PyTorch lightning, `configure_optimizers` is a method that returns the optimizer and the learning rate scheduler.\n",
    "We use ADAM {footcite}`kingma2014adam` as the optimizer. It is a popular optimizer for deep learning. It is a variant of stochastic gradient descent that can adaptively adjust the learning rate for each parameter using the first and second moments of the gradients.\n",
    "```\n",
    "\n",
    "Now, let's train the model."
   ]
  },
  {
   "cell_type": "code",
   "execution_count": 7,
   "id": "0686f235",
   "metadata": {},
   "outputs": [
    {
     "name": "stderr",
     "output_type": "stream",
     "text": [
      "GPU available: True (mps), used: True\n"
     ]
    },
    {
     "name": "stderr",
     "output_type": "stream",
     "text": [
      "TPU available: False, using: 0 TPU cores\n"
     ]
    },
    {
     "name": "stderr",
     "output_type": "stream",
     "text": [
      "HPU available: False, using: 0 HPUs\n"
     ]
    },
    {
     "name": "stderr",
     "output_type": "stream",
     "text": [
      "/Users/skojaku-admin/miniforge3/envs/advnetsci/lib/python3.11/site-packages/pytorch_lightning/trainer/connectors/data_connector.py:425: The 'val_dataloader' does not have many workers which may be a bottleneck. Consider increasing the value of the `num_workers` argument` to `num_workers=9` in the `DataLoader` to improve performance.\n"
     ]
    },
    {
     "name": "stderr",
     "output_type": "stream",
     "text": [
      "/Users/skojaku-admin/miniforge3/envs/advnetsci/lib/python3.11/site-packages/pytorch_lightning/trainer/connectors/data_connector.py:425: The 'train_dataloader' does not have many workers which may be a bottleneck. Consider increasing the value of the `num_workers` argument` to `num_workers=9` in the `DataLoader` to improve performance.\n",
      "/Users/skojaku-admin/miniforge3/envs/advnetsci/lib/python3.11/site-packages/pytorch_lightning/loops/fit_loop.py:310: The number of training batches (7) is smaller than the logging interval Trainer(log_every_n_steps=50). Set a lower value for log_every_n_steps if you want to see logs for the training epoch.\n"
     ]
    },
    {
     "name": "stderr",
     "output_type": "stream",
     "text": [
      "`Trainer.fit` stopped: `max_epochs=200` reached.\n"
     ]
    }
   ],
   "source": [
    "trainer = pyl.Trainer(\n",
    "    max_epochs=200,\n",
    "    enable_progress_bar=False,\n",
    "    enable_model_summary=False,\n",
    ")\n",
    "trainer.fit(model, train_dataloader, val_dataloader)"
   ]
  },
  {
   "cell_type": "markdown",
   "id": "b2aa4f61",
   "metadata": {},
   "source": [
    "Let's plot the training loss."
   ]
  },
  {
   "cell_type": "code",
   "execution_count": 8,
   "id": "4cb03b69",
   "metadata": {},
   "outputs": [
    {
     "data": {
      "image/png": "[encoded data removed]",
      "text/plain": [
       "<Figure size 500x500 with 1 Axes>"
      ]
     },
     "metadata": {},
     "output_type": "display_data"
    }
   ],
   "source": [
    "import matplotlib.pyplot as plt\n",
    "fig, ax = plt.subplots(figsize = (5,5))\n",
    "ax.plot(model.val_losses)\n",
    "ax.set_title(\"Validation Loss\")\n",
    "ax.set_xlabel(\"Epoch\")\n",
    "ax.set_ylabel(\"Loss\")\n",
    "plt.show()"
   ]
  },
  {
   "cell_type": "markdown",
   "id": "065c324f",
   "metadata": {},
   "source": [
    "The loss did not decrease nicely. This is a sign of the struggle of the LSTM model to learn the data. If you see this, you might need to decrease the learning rate, increase the number of epochs untile the loss becomes stable, or re-design the model architecture.\n",
    "\n",
    "Nevertheless, let's test the model."
   ]
  },
  {
   "cell_type": "code",
   "execution_count": 9,
   "id": "977c2bfb",
   "metadata": {},
   "outputs": [
    {
     "name": "stdout",
     "output_type": "stream",
     "text": [
      "Sequence: JKYEMIWNHFXTUCSGVZLRPDA<B>QO, Target: B, Predicted: T\n",
      "Sequence: OARTUY<Q>FMXEJIBSHLCZDKWNGVP, Target: Q, Predicted: A\n",
      "Sequence: KP<D>SUNRWILQGMZJOEFYHABTCVX, Target: D, Predicted: M\n",
      "Sequence: ZECXOGVRWLAUNKDFQYTSMHP<J>BI, Target: J, Predicted: Y\n",
      "Sequence: KWUTDCMGSPJOBILAXHE<V>FRQNYZ, Target: V, Predicted: O\n",
      "Accuracy: 0.0\n"
     ]
    }
   ],
   "source": [
    "eval_seq, eval_target, vocab = generate_wrapped_char_data(n_samples=5)\n",
    "X_eval = tokenize(eval_seq, vocab)\n",
    "y_eval = tokenize(eval_target, vocab)\n",
    "\n",
    "model.eval()\n",
    "with torch.no_grad():\n",
    "    y_hat = model(X_eval)\n",
    "    predicted_idx = torch.argmax(y_hat, dim=1)\n",
    "    predicted_char = [vocab[idx] for idx in predicted_idx]\n",
    "\n",
    "    for i in range(len(eval_seq)):\n",
    "        print(f\"Sequence: {eval_seq[i]}, Target: {eval_target[i]}, Predicted: {predicted_char[i]}\")\n",
    "    accuracy = (predicted_idx == y_eval).sum() / len(y_eval)\n",
    "    print(f\"Accuracy: {accuracy}\")\n"
   ]
  },
  {
   "cell_type": "markdown",
   "id": "ae07bddd",
   "metadata": {},
   "source": [
    "We see that the model did NOT work well. This is a very common situation, where some tuning of the model architecture or hyperparameters is needed for the model to work well.\n",
    "\n",
    "## 🔥 Exercise 🔥\n",
    "\n",
    "Let's fix the model by doing the following:\n",
    "\n",
    "1. Try increasing the number of hidden units in the LSTM model.\n",
    "2. Bring back to the original number of hidden units, and try increasing the number of layers in the LSTM model.\n",
    "3. Try increasing the learning rate.\n",
    "4. Play with other hyperparameters, e.g., the number of epochs, batch size, etc.\n",
    "5. Change the model to `nn.RNN` instead of `nn.LSTM`. You should replace `(h_n, c_n)` with `hidden` in the training and evaluation since `nn.RNN` does not have a cell state.\n",
    "\n",
    "You should be able to see the model to correctly predict the wrapped character.\n",
    "\n",
    "```{footbibliography}\n",
    ":style: unsrt\n",
    "```"
   ]
  }
 ],
 "metadata": {
  "jupytext": {
   "formats": "md:myst",
   "text_representation": {
    "extension": ".md",
    "format_name": "myst"
   }
  },
  "kernelspec": {
   "display_name": "Python 3",
   "language": "python",
   "name": "python3"
  },
  "language_info": {
   "codemirror_mode": {
    "name": "ipython",
    "version": 3
   },
   "file_extension": ".py",
   "mimetype": "text/x-python",
   "name": "python",
   "nbconvert_exporter": "python",
   "pygments_lexer": "ipython3",
   "version": "3.11.0"
  }
 },
 "nbformat": 4,
 "nbformat_minor": 5
}