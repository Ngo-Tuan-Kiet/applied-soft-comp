{
 "cells": [
  {
   "cell_type": "markdown",
   "id": "9f334fba",
   "metadata": {},
   "source": [
    "# [![Open In Colab](https://colab.research.google.com/assets/colab-badge.svg)](https://colab.research.google.com/github/skojaku/applied-soft-comp/blob/master/notebooks/semaxis.ipynb)\n",
    "\n",
    "# SemAxis\n",
    "\n",
    "In this hands-on section, we'll implement key concepts of SemAxis using Python and pre-trained GloVe embeddings. We'll take a functional programming approach to keep things clear and straightforward.\n",
    "\n",
    "### Loading Word Embeddings\n",
    "\n",
    "First, let's get our embeddings using gensim's built-in downloader:"
   ]
  },
  {
   "cell_type": "code",
   "execution_count": null,
   "id": "bd98998d",
   "metadata": {},
   "outputs": [],
   "source": [
    "# Uncomment the following line to install the required packages\n",
    "# !pip install networkx gensim tqdm nltk bokeh faiss-cpu"
   ]
  },
  {
   "cell_type": "code",
   "execution_count": null,
   "id": "2782c87f",
   "metadata": {},
   "outputs": [],
   "source": [
    "import numpy as np\n",
    "import matplotlib.pyplot as plt\n",
    "import gensim.downloader as api\n",
    "\n",
    "# Download and load pre-trained GloVe embeddings\n",
    "model = api.load('glove-wiki-gigaword-100')\n",
    "print(f\"Model contains {len(model.key_to_index)} words\")"
   ]
  },
  {
   "cell_type": "markdown",
   "id": "52edf345",
   "metadata": {},
   "source": [
    "### Creating a Semantic Axis\n",
    "\n",
    "Let's implement the core function for creating a semantic axis from two pole words:"
   ]
  },
  {
   "cell_type": "code",
   "execution_count": null,
   "id": "68561e8f",
   "metadata": {},
   "outputs": [],
   "source": [
    "def create_semantic_axis(pos_word, neg_word, model):\n",
    "    \"\"\"Create a semantic axis from two pole words\"\"\"\n",
    "    # Get word vectors for both poles\n",
    "    pos_vector = model[pos_word]\n",
    "    neg_vector = model[neg_word]\n",
    "\n",
    "    # Create axis vector by subtracting negative pole from positive pole\n",
    "    axis_vector = pos_vector - neg_vector\n",
    "\n",
    "    return axis_vector\n",
    "\n",
    "# Example: Create a sentiment axis\n",
    "sentiment_axis = create_semantic_axis('good', 'bad', model)"
   ]
  },
  {
   "cell_type": "markdown",
   "id": "782aed48",
   "metadata": {},
   "source": [
    "### Computing Word Scores\n",
    "\n",
    "Now let's create a function to measure how words align along our semantic axis:"
   ]
  },
  {
   "cell_type": "code",
   "execution_count": null,
   "id": "a713d6d5",
   "metadata": {},
   "outputs": [],
   "source": [
    "def get_word_score(word, axis_vector, model):\n",
    "    \"\"\"Compute how a word aligns with a semantic axis\"\"\"\n",
    "    word_vector = model[word]\n",
    "\n",
    "    # Compute cosine similarity between word and axis\n",
    "    score = np.dot(word_vector, axis_vector) / (\n",
    "        np.linalg.norm(word_vector) * np.linalg.norm(axis_vector)\n",
    "    )\n",
    "    return score\n",
    "\n",
    "# Let's test some words along the sentiment axis\n",
    "test_words = ['excellent', 'terrible', 'amazing', 'horrible', 'mediocre']\n",
    "scores = [(word, get_word_score(word, sentiment_axis, model))\n",
    "          for word in test_words]\n",
    "\n",
    "# Print results\n",
    "for word, score in sorted(scores, key=lambda x: x[1]):\n",
    "    print(f\"{word}: {score:.3f}\")"
   ]
  },
  {
   "cell_type": "markdown",
   "id": "6f673236",
   "metadata": {},
   "source": [
    "### Visualizing Word Alignments\n",
    "\n",
    "Let's create a simple visualization of how words align along our semantic axis:"
   ]
  },
  {
   "cell_type": "code",
   "execution_count": null,
   "id": "5d6c0a86",
   "metadata": {},
   "outputs": [],
   "source": [
    "def plot_semantic_alignment(words, axis_vector, model, axis_name=\"Sentiment\"):\n",
    "    \"\"\"Plot words along a semantic axis\"\"\"\n",
    "    scores = [(word, get_word_score(word, axis_vector, model))\n",
    "             for word in words]\n",
    "    scores = sorted(scores, key=lambda x: x[1])\n",
    "\n",
    "    words, values = zip(*scores)\n",
    "\n",
    "    plt.figure(figsize=(10, 4))\n",
    "    plt.barh(words, values)\n",
    "    plt.axvline(x=0, color='black', linestyle='-', alpha=0.3)\n",
    "    plt.title(f'Word Alignment on {axis_name} Axis')\n",
    "    plt.xlabel(f'← Negative    Score    Positive →')\n",
    "    plt.tight_layout()\n",
    "    plt.show()\n",
    "\n",
    "# Test with more words\n",
    "test_words = ['excellent', 'terrible', 'amazing', 'horrible',\n",
    "              'mediocre', 'outstanding', 'average', 'good', 'bad']\n",
    "plot_semantic_alignment(test_words, sentiment_axis, model)"
   ]
  },
  {
   "cell_type": "markdown",
   "id": "ae60b0b6",
   "metadata": {},
   "source": [
    "### Creating Robust Semantic Axes\n",
    "\n",
    "Let's implement the expanded pole words approach for more reliable axes:"
   ]
  },
  {
   "cell_type": "code",
   "execution_count": null,
   "id": "fbb206a3",
   "metadata": {},
   "outputs": [],
   "source": [
    "def create_robust_axis(pos_word, neg_word, model, k=5):\n",
    "    \"\"\"Create a semantic axis using expanded pole words\"\"\"\n",
    "    # Get neighboring words for positive pole\n",
    "    pos_neighbors = [word for word, _ in model.most_similar(pos_word, topn=k)]\n",
    "    pos_neighbors.append(pos_word)\n",
    "\n",
    "    # Get neighboring words for negative pole\n",
    "    neg_neighbors = [word for word, _ in model.most_similar(neg_word, topn=k)]\n",
    "    neg_neighbors.append(neg_word)\n",
    "\n",
    "    # Calculate centroid vectors\n",
    "    pos_centroid = np.mean([model[w] for w in pos_neighbors], axis=0)\n",
    "    neg_centroid = np.mean([model[w] for w in neg_neighbors], axis=0)\n",
    "\n",
    "    # Create axis vector\n",
    "    return pos_centroid - neg_centroid\n",
    "\n",
    "# Create a robust sentiment axis and compare results\n",
    "robust_sentiment_axis = create_robust_axis('good', 'bad', model)\n",
    "plot_semantic_alignment(test_words, robust_sentiment_axis, model,\n",
    "                       \"Robust Sentiment\")"
   ]
  },
  {
   "cell_type": "markdown",
   "id": "f8a0fc3e",
   "metadata": {},
   "source": [
    "### Analyzing Words Along Multiple Axes\n",
    "\n",
    "Finally, let's see how words position themselves in a 2D semantic space:"
   ]
  },
  {
   "cell_type": "code",
   "execution_count": null,
   "id": "043f40c6",
   "metadata": {},
   "outputs": [],
   "source": [
    "def plot_words_2d(words, axis1, axis2, model,\n",
    "                  axis1_name=\"Axis 1\", axis2_name=\"Axis 2\"):\n",
    "    \"\"\"Plot words in 2D semantic space defined by two axes\"\"\"\n",
    "    # Get scores for both axes\n",
    "    scores_1 = [get_word_score(word, axis1, model) for word in words]\n",
    "    scores_2 = [get_word_score(word, axis2, model) for word in words]\n",
    "\n",
    "    plt.figure(figsize=(10, 10))\n",
    "    plt.scatter(scores_1, scores_2, marker='o')\n",
    "\n",
    "    # Add word labels with some padding\n",
    "    for i, word in enumerate(words):\n",
    "        plt.annotate(word, (scores_1[i], scores_2[i]),\n",
    "                    xytext=(5, 5), textcoords='offset points')\n",
    "\n",
    "    plt.axhline(y=0, color='k', linestyle='-', alpha=0.3)\n",
    "    plt.axvline(x=0, color='k', linestyle='-', alpha=0.3)\n",
    "    plt.xlabel(axis1_name)\n",
    "    plt.ylabel(axis2_name)\n",
    "    plt.title('Words in 2D Semantic Space')\n",
    "\n",
    "    # Add some padding to the plot edges\n",
    "    plt.margins(0.1)\n",
    "    plt.tight_layout()\n",
    "    plt.show()\n",
    "\n",
    "# Create two different axes\n",
    "sentiment_axis = create_semantic_axis('good', 'bad', model)\n",
    "strength_axis = create_semantic_axis('strong', 'weak', model)\n",
    "\n",
    "# Plot words in 2D semantic space\n",
    "test_words = ['excellent', 'terrible', 'powerful', 'weak',\n",
    "              'mediocre', 'strong', 'mild', 'intense', \"bad\", \"good\"]\n",
    "plot_words_2d(test_words, sentiment_axis, strength_axis, model,\n",
    "              \"Sentiment (Bad → Good)\", \"Strength (Weak → Strong)\")"
   ]
  },
  {
   "cell_type": "markdown",
   "id": "4e86c57f",
   "metadata": {},
   "source": [
    "### 🔥 Exercise 🔥\n",
    "\n",
    "1. Create a 2D semantic space using the following axes:\n",
    "   - \"happy\" and \"sad\"\n",
    "   - \"fast\" and \"slow\"\n",
    "\n",
    "2. Visualize the words in the 2D semantic space."
   ]
  }
 ],
 "metadata": {
  "kernelspec": {
   "display_name": "Python 3",
   "language": "python",
   "name": "python3"
  }
 },
 "nbformat": 4,
 "nbformat_minor": 5
}
